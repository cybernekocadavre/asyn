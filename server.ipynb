{
 "cells": [
  {
   "cell_type": "code",
   "execution_count": null,
   "id": "64c92f4a",
   "metadata": {},
   "outputs": [],
   "source": [
    "import asyncio\n",
    "\n",
    "async def handle_echo(reader, writer):\n",
    "    data = await reader.read(100)\n",
    "    message = data.decode()\n",
    "    client_address = writer.get_extra_info('socket').getpeername()\n",
    "    print(f\"Получили сообщение: {message} от:  {client_address}\")\n",
    "\n",
    "    print(f\"Посылаем: {message}\")\n",
    "    writer.write(data)\n",
    "    await writer.drain()\n",
    "\n",
    "    print(\"Закрываем соединение\")\n",
    "    writer.close()\n",
    "\n",
    "async def main():\n",
    "    server = await asyncio.start_server(handle_echo, '127.0.0.1', 8888)\n",
    "    addr = server.sockets[0].getsockname()\n",
    "    print(f'Работаем на: {addr}')\n",
    "\n",
    "    async with server:\n",
    "        await server.serve_forever()\n",
    "\n",
    "asyncio.run(main())"
   ]
  }
 ],
 "metadata": {
  "kernelspec": {
   "display_name": "Python 3 (ipykernel)",
   "language": "python",
   "name": "python3"
  },
  "language_info": {
   "codemirror_mode": {
    "name": "ipython",
    "version": 3
   },
   "file_extension": ".py",
   "mimetype": "text/x-python",
   "name": "python",
   "nbconvert_exporter": "python",
   "pygments_lexer": "ipython3",
   "version": "3.10.9"
  }
 },
 "nbformat": 4,
 "nbformat_minor": 5
}
