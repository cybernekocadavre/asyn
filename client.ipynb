{
 "cells": [
  {
   "cell_type": "code",
   "execution_count": null,
   "id": "360c3fbb",
   "metadata": {},
   "outputs": [],
   "source": [
    "import asyncio\n",
    "\n",
    "async def tcp_echo_client(message):\n",
    "    reader, writer = await asyncio.open_connection('127.0.0.1', 8888)\n",
    "    \n",
    "    writer.write(message.encode())\n",
    "    await writer.drain()\n",
    "\n",
    "    data = await reader.read(100)\n",
    "    print(f\"Получили: {data.decode()}\")\n",
    "\n",
    "    print(\"Закрываем соединение\")\n",
    "    writer.close()\n",
    "    await writer.wait_closed()\n",
    "\n",
    "async def main():\n",
    "    await tcp_echo_client('учебно-научный семинар')\n",
    "\n",
    "asyncio.run(main())"
   ]
  }
 ],
 "metadata": {
  "kernelspec": {
   "display_name": "Python 3 (ipykernel)",
   "language": "python",
   "name": "python3"
  },
  "language_info": {
   "codemirror_mode": {
    "name": "ipython",
    "version": 3
   },
   "file_extension": ".py",
   "mimetype": "text/x-python",
   "name": "python",
   "nbconvert_exporter": "python",
   "pygments_lexer": "ipython3",
   "version": "3.10.9"
  }
 },
 "nbformat": 4,
 "nbformat_minor": 5
}
